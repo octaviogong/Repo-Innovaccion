{
 "cells": [
  {
   "cell_type": "markdown",
   "metadata": {},
   "source": [
    "#Manual de la Nave"
   ]
  },
  {
   "cell_type": "code",
   "execution_count": null,
   "metadata": {},
   "outputs": [],
   "source": [
    "pip install ipywidgets\n"
   ]
  },
  {
   "cell_type": "code",
   "execution_count": null,
   "metadata": {},
   "outputs": [],
   "source": [
    "import ipywidgets as widgets\n",
    "\n",
    "ignition = widgets.ToggleButton(\n",
    "    value=False,\n",
    "    description='Iniciar Launch',\n",
    "    button_style='success',\n",
    "    tooltip='Engage your Launch',\n",
    "    icon='rocket'\n",
    ")\n",
    "\n",
    "output = widgets.Output()\n",
    "\n",
    "display(ignition, output)\n",
    "\n",
    "def on_value_change(change):\n",
    "    with output:\n",
    "        if change['new'] == True:\n",
    "            print(\"Nave Iniciada!\")\n",
    "        else:   \n",
    "            print(\"Nave Detenida\")\n",
    "\n",
    "ignition.observe(on_value_change, names='value')"
   ]
  },
  {
   "cell_type": "code",
   "execution_count": null,
   "metadata": {},
   "outputs": [],
   "source": [
    "!pip install matplotlib\n",
    "!pip install numpy"
   ]
  },
  {
   "cell_type": "markdown",
   "metadata": {},
   "source": [
    "## Niveles de Oxígeno"
   ]
  },
  {
   "cell_type": "code",
   "execution_count": null,
   "metadata": {},
   "outputs": [],
   "source": [
    "import numpy as np\n",
    "import matplotlib.pyplot as plt\n",
    "data = np.random.default_rng(12345)\n",
    "oxy_nums = data.integers(low=0, high=10, size=10)\n",
    "\n",
    "plt.bar(range(len(oxy_nums)), oxy_nums)\n",
    "plt.show()"
   ]
  },
  {
   "cell_type": "markdown",
   "metadata": {},
   "source": [
    "## Velocidad de la nave\n",
    "Muestra los segundos necesarios para pasar de 0 a 11200 metros por segundo, dada la aceleración de la nave en metros por segundo."
   ]
  },
  {
   "cell_type": "code",
   "execution_count": null,
   "metadata": {},
   "outputs": [],
   "source": [
    "endVelocity = 11200\n",
    "startVelocity = 0\n",
    "acceleration = 9.8\n",
    "\n",
    "time = (endVelocity - startVelocity) / acceleration\n",
    "print(\"Tiempo para alcanzar la velocidad deseada = \", time)"
   ]
  },
  {
   "cell_type": "markdown",
   "metadata": {},
   "source": [
    "## Módulo 9 Funciones"
   ]
  },
  {
   "cell_type": "markdown",
   "metadata": {},
   "source": [
    "## Función para leer 3 tanques de combustible y muestre el promedio"
   ]
  },
  {
   "cell_type": "code",
   "execution_count": 9,
   "metadata": {},
   "outputs": [
    {
     "ename": "TypeError",
     "evalue": "promedio() missing 2 required positional arguments: 'nivel2' and 'nivel3'",
     "output_type": "error",
     "traceback": [
      "\u001b[1;31m---------------------------------------------------------------------------\u001b[0m",
      "\u001b[1;31mTypeError\u001b[0m                                 Traceback (most recent call last)",
      "\u001b[1;32mc:\\Users\\OctavioEduardoGonzál\\OneDrive - Instituto Tecnológico Superior de Guanajuato\\Escritorio\\ship-manual.ipynb Cell 11'\u001b[0m in \u001b[0;36m<module>\u001b[1;34m\u001b[0m\n\u001b[0;32m      <a href='vscode-notebook-cell:/c%3A/Users/OctavioEduardoGonz%C3%A1l/OneDrive%20-%20Instituto%20Tecnol%C3%B3gico%20Superior%20de%20Guanajuato/Escritorio/ship-manual.ipynb#ch0000011?line=8'>9</a>\u001b[0m     promedio_calculado \u001b[39m=\u001b[39m (nivel1\u001b[39m+\u001b[39mnivel2\u001b[39m+\u001b[39mnivel3)\u001b[39m/\u001b[39m\u001b[39m3\u001b[39m\n\u001b[0;32m     <a href='vscode-notebook-cell:/c%3A/Users/OctavioEduardoGonz%C3%A1l/OneDrive%20-%20Instituto%20Tecnol%C3%B3gico%20Superior%20de%20Guanajuato/Escritorio/ship-manual.ipynb#ch0000011?line=10'>11</a>\u001b[0m     \u001b[39mreturn\u001b[39;00m promedio_calculado\n\u001b[1;32m---> <a href='vscode-notebook-cell:/c%3A/Users/OctavioEduardoGonz%C3%A1l/OneDrive%20-%20Instituto%20Tecnol%C3%B3gico%20Superior%20de%20Guanajuato/Escritorio/ship-manual.ipynb#ch0000011?line=14'>15</a>\u001b[0m \u001b[39mprint\u001b[39m(\u001b[39m\"\u001b[39m\u001b[39mEl promedio de la lectura es: \u001b[39m\u001b[39m\"\u001b[39m,promedio(lectura_tanques(\u001b[39m1\u001b[39;49m,\u001b[39m1\u001b[39;49m,\u001b[39m1\u001b[39;49m)))\n",
      "\u001b[1;31mTypeError\u001b[0m: promedio() missing 2 required positional arguments: 'nivel2' and 'nivel3'"
     ]
    }
   ],
   "source": [
    "def lectura_tanques(tanque1,tanque2,tanque3):\n",
    "    nivel1 = tanque1\n",
    "    nivel2 = tanque2\n",
    "    nivel3 = tanque3\n",
    "    return nivel1,nivel2,nivel3\n",
    "\n",
    "def promedio(nivel1,nivel2, nivel3):\n",
    "\n",
    "    promedio_calculado = (nivel1+nivel2+nivel3)/3\n",
    "\n",
    "    return promedio_calculado\n",
    "\n",
    "\n",
    "\n",
    "print(\"El promedio de la lectura es: \",promedio(lectura_tanques(1,1,1)))\n"
   ]
  }
 ],
 "metadata": {
  "interpreter": {
   "hash": "9bb1ebf8e663f0e5615088066fddedf1859ada9488241b9d77130f06cf8dc067"
  },
  "kernelspec": {
   "display_name": "Python 3.9.6 64-bit (system)",
   "language": "python",
   "name": "python3"
  },
  "language_info": {
   "codemirror_mode": {
    "name": "ipython",
    "version": 3
   },
   "file_extension": ".py",
   "mimetype": "text/x-python",
   "name": "python",
   "nbconvert_exporter": "python",
   "pygments_lexer": "ipython3",
   "version": "3.9.6"
  },
  "orig_nbformat": 4
 },
 "nbformat": 4,
 "nbformat_minor": 2
}
